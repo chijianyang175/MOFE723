{
 "cells": [
  {
   "cell_type": "code",
   "execution_count": 14,
   "id": "9a2b577c",
   "metadata": {},
   "outputs": [],
   "source": [
    "import fitz  # PyMuPDF\n",
    "\n",
    "def pdf_to_txt(pdf_path, txt_path):\n",
    "    doc = fitz.open(pdf_path)\n",
    "    with open(txt_path, 'w', encoding='utf-8') as f:\n",
    "        for page in doc:\n",
    "            text = page.get_text()\n",
    "            f.write(text + '\\n')\n",
    "\n",
    "data_path = \"/home/liusicen/methods/DynamicFusion/Datasets/datasets/Disprot504.pdf\"\n",
    "output_path = \"/home/liusicen/methods/DynamicFusion/Datasets/datasets/Disprot504.txt\"\n",
    "# pdf_to_txt(\"example.pdf\", \"output.txt\")\n",
    "pdf_to_txt(data_path, output_path)\n"
   ]
  },
  {
   "cell_type": "code",
   "execution_count": 15,
   "id": "f2044981",
   "metadata": {},
   "outputs": [
    {
     "name": "stdout",
     "output_type": "stream",
     "text": [
      "/home/liusicen/methods/DynamicFusion/Datasets/datasets/Disprot504.fasta\n",
      "1008\n",
      "Saved /home/liusicen/methods/DynamicFusion/Datasets/datasets/Disprot504.fasta\n",
      "protein nums 504\n"
     ]
    }
   ],
   "source": [
    "# 将pdf转成txt之后的文件转换为fasta文件\n",
    "# data_path = \"/home/liusicen/models/DeepDRP-my/datasets/SL329.txt\"\n",
    "count = 0\n",
    "ids = []\n",
    "seqs = []\n",
    "labels = []\n",
    "with open(output_path, 'r') as f:\n",
    "    data = f.read()\n",
    "# 按行分割数据\n",
    "lines = data.strip().split('\\n')\n",
    "\n",
    "protein = []\n",
    "current_protein = {}\n",
    "for i, line in enumerate(lines):\n",
    "    if line.startswith('>'):\n",
    "        if current_protein:\n",
    "            protein.append(current_protein)\n",
    "            current_protein = {}\n",
    "        current_protein['name'] = line.strip()\n",
    "    elif line and line[0].isalpha(): # 蛋白质序列\n",
    "        current_protein.setdefault('sequence', '') \n",
    "        current_protein['sequence'] += line.strip()\n",
    "    elif line and line[0].isdigit(): # 标签\n",
    "        current_protein.setdefault('label', '')\n",
    "        current_protein['label'] += line.strip()\n",
    "    \n",
    "# 添加最后一个蛋白质\n",
    "if current_protein:\n",
    "    protein.append(current_protein)\n",
    "\n",
    "for pro in protein:\n",
    "    if len(pro['sequence']) != len(pro['label']):\n",
    "        print(pro['name'])\n",
    "\n",
    "import os\n",
    "base_path = output_path.split(\".txt\")[0]  \n",
    "new_path = f\"{base_path}.fasta\"   \n",
    "print(new_path)   \n",
    "print(len(protein))\n",
    "protein_name = []\n",
    "with open(new_path, 'w') as f:\n",
    "    for pro in protein:\n",
    "        if pro['name'] not in protein_name:\n",
    "            protein_name.append(pro['name'])\n",
    "            f.write(f\"{pro['name']}\\n\")\n",
    "            f.write(pro['sequence'] + \"\\n\")\n",
    "            f.write(pro['label'] + \"\\n\")\n",
    "    print(f\"Saved {new_path}\")\n",
    "    print(f\"protein nums {len(protein_name)}\")\n",
    "       "
   ]
  },
  {
   "cell_type": "code",
   "execution_count": 16,
   "id": "e220004f",
   "metadata": {},
   "outputs": [
    {
     "data": {
      "text/plain": [
       "(1008, 504)"
      ]
     },
     "execution_count": 16,
     "metadata": {},
     "output_type": "execute_result"
    }
   ],
   "source": [
    "protein_name = []\n",
    "for pro in protein:\n",
    "    protein_name.append(pro['name'])\n",
    "len(protein_name), len(set(protein_name))"
   ]
  },
  {
   "cell_type": "code",
   "execution_count": 17,
   "id": "8841abc8",
   "metadata": {},
   "outputs": [
    {
     "name": "stdout",
     "output_type": "stream",
     "text": [
      "ordered 226992 0.7530104894408949 \n",
      " Disordered 74454 0.24698951055910512\n"
     ]
    }
   ],
   "source": [
    "# 统计有序和无序残基的数量\n",
    "import os\n",
    "import numpy as np\n",
    "class fastaExample(object):\n",
    "    def __init__(self, id, name, seq, label):\n",
    "        self.id = id\n",
    "        self.name = name\n",
    "        self.seq = seq\n",
    "        self.label = label\n",
    "\n",
    "def parseFasta_with_label(input_file):\n",
    "    samples = []\n",
    "    load_f = []\n",
    "    with open(input_file, 'r') as f:\n",
    "        lines = f.readlines()\n",
    "        for line in lines:\n",
    "            line=line.strip('\\n')\n",
    "            load_f.append(line)\n",
    "    for i in range(len(load_f)):\n",
    "        if i % 3 == 0:\n",
    "            id = load_f[i].strip('>').strip('\\n\\r')\n",
    "            seq = load_f[i+1]\n",
    "            label = load_f[i+2]\n",
    "            samples.append(fastaExample(id, id, seq, label))\n",
    "    return samples \n",
    "# path = \"/home/liusicen/models/DeepDRP-my/datasets/MXD494.fasta\"\n",
    "# path =\"/home/liusicen/models/DeepDRP-my/datasets/SL329.fasta\"\n",
    "new_path = \"/home/liusicen/methods/DynamicFusion/Datasets/datasets/Disprot504.fasta\"\n",
    "\n",
    "prot_list = parseFasta_with_label(new_path)\n",
    "len(prot_list)\n",
    "\n",
    "zero_count = 0\n",
    "one_count = 0\n",
    "for prot in prot_list:\n",
    "    for lab in prot.label:\n",
    "        if lab == '0':\n",
    "            zero_count += 1\n",
    "        elif lab == '1':\n",
    "            one_count += 1\n",
    "print(\"ordered\", zero_count, zero_count/(zero_count + one_count), \"\\n\", \"Disordered\", one_count, one_count/(zero_count + one_count))"
   ]
  },
  {
   "cell_type": "markdown",
   "id": "bc4d58c7",
   "metadata": {},
   "source": []
  }
 ],
 "metadata": {
  "kernelspec": {
   "display_name": "base",
   "language": "python",
   "name": "python3"
  },
  "language_info": {
   "codemirror_mode": {
    "name": "ipython",
    "version": 3
   },
   "file_extension": ".py",
   "mimetype": "text/x-python",
   "name": "python",
   "nbconvert_exporter": "python",
   "pygments_lexer": "ipython3",
   "version": "3.12.4"
  }
 },
 "nbformat": 4,
 "nbformat_minor": 5
}
